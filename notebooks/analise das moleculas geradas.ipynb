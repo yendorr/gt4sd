{
 "cells": [
  {
   "cell_type": "markdown",
   "metadata": {
    "id": "0VxNIAhwidCH"
   },
   "source": [
    "# Analise das moleculas geradas"
   ]
  },
  {
   "cell_type": "markdown",
   "metadata": {
    "id": "Craottbji3Cq"
   },
   "source": [
    "### RDKIT install and import"
   ]
  },
  {
   "cell_type": "code",
   "execution_count": 1,
   "metadata": {},
   "outputs": [],
   "source": [
    "numero_moleculas_geradas = 3000"
   ]
  },
  {
   "cell_type": "code",
   "execution_count": 10,
   "metadata": {},
   "outputs": [
    {
     "ename": "ModuleNotFoundError",
     "evalue": "No module named 'gt4sd.properties'",
     "output_type": "error",
     "traceback": [
      "\u001b[0;31m---------------------------------------------------------------------------\u001b[0m",
      "\u001b[0;31mModuleNotFoundError\u001b[0m                       Traceback (most recent call last)",
      "\u001b[0;32m/tmp/ipykernel_24769/1002883183.py\u001b[0m in \u001b[0;36m<module>\u001b[0;34m\u001b[0m\n\u001b[0;32m----> 1\u001b[0;31m \u001b[0;32mimport\u001b[0m \u001b[0mgt4sd\u001b[0m\u001b[0;34m.\u001b[0m\u001b[0mproperties\u001b[0m\u001b[0;34m.\u001b[0m\u001b[0mmolecules\u001b[0m\u001b[0;34m.\u001b[0m\u001b[0mcore\u001b[0m \u001b[0;32mas\u001b[0m \u001b[0mprop\u001b[0m\u001b[0;34m\u001b[0m\u001b[0;34m\u001b[0m\u001b[0m\n\u001b[0m\u001b[1;32m      2\u001b[0m \u001b[0;34m\u001b[0m\u001b[0m\n",
      "\u001b[0;31mModuleNotFoundError\u001b[0m: No module named 'gt4sd.properties'"
     ]
    }
   ],
   "source": []
  },
  {
   "cell_type": "code",
   "execution_count": 2,
   "metadata": {},
   "outputs": [
    {
     "name": "stderr",
     "output_type": "stream",
     "text": [
      "/home/rodney/miniconda3/envs/gt4sd/lib/python3.7/site-packages/tqdm/auto.py:22: TqdmWarning: IProgress not found. Please update jupyter and ipywidgets. See https://ipywidgets.readthedocs.io/en/stable/user_install.html\n",
      "  from .autonotebook import tqdm as notebook_tqdm\n"
     ]
    }
   ],
   "source": [
    "from IPython.display import display, Markdown, HTML, clear_output\n",
    "\n",
    "import pandas as pd\n",
    "import numpy as np\n",
    "import os\n",
    "import matplotlib.pyplot as plt\n",
    "import seaborn as sns\n",
    "\n",
    "from collections import defaultdict\n",
    "\n",
    "import chebi\n",
    "import sys\n",
    "sys.path.append('sascorer')\n",
    "from sascorer import sascorer\n",
    "\n",
    "from tqdm import tqdm\n",
    "from rdkit import Chem\n",
    "from rdkit.Chem import Draw\n",
    "from rdkit.Chem.Draw import IPythonConsole\n",
    "from rdkit.Chem import Descriptors\n",
    "from rdkit.Chem import AllChem\n",
    "from rdkit import DataStructs\n",
    "\n"
   ]
  },
  {
   "cell_type": "code",
   "execution_count": 3,
   "metadata": {},
   "outputs": [],
   "source": [
    "smi_files = ['PolymerBlocks']\n",
    "smi_file = smi_files[0]"
   ]
  },
  {
   "cell_type": "code",
   "execution_count": 4,
   "metadata": {},
   "outputs": [],
   "source": [
    "dir = f'dados/{smi_file}_smiles.txt'\n",
    "f = open(dir)\n",
    "txt = f.read()\n",
    "f.close()\n",
    "smiles = txt.split('\\n')[:3000]"
   ]
  },
  {
   "cell_type": "markdown",
   "metadata": {
    "id": "92frM1uSijjt"
   },
   "source": [
    "### propriedades"
   ]
  },
  {
   "cell_type": "code",
   "execution_count": 5,
   "metadata": {
    "id": "7BXZdXLYh3x9"
   },
   "outputs": [],
   "source": [
    "gerados = pd.DataFrame(smiles,columns=['smiles'])\n",
    "\n",
    "gerados['objeto'] = gerados['smiles'].apply(Chem.MolFromSmiles).apply(Chem.AddHs)\n",
    "validos = gerados[ (gerados['objeto'].notnull()) ]\n",
    "validos.reset_index(inplace=True,drop=True,)\n",
    "# output.clear()"
   ]
  },
  {
   "cell_type": "code",
   "execution_count": 6,
   "metadata": {},
   "outputs": [],
   "source": [
    "import numpy as np\n",
    "\n",
    "def qed(mol):\n",
    "    try:\n",
    "        return Descriptors.qed(mol)\n",
    "    except:\n",
    "        return np.NaN\n",
    "def sas(mol):\n",
    "    try:\n",
    "        return sascorer.calculateScore(mol)\n",
    "    except:\n",
    "        return np.NaN"
   ]
  },
  {
   "cell_type": "code",
   "execution_count": 7,
   "metadata": {
    "id": "ht87H3RAzKYP"
   },
   "outputs": [],
   "source": [
    "unicos = pd.DataFrame(validos['smiles'].unique(),columns=['smiles'])\n",
    "unicos['objeto'] = unicos['smiles'].apply(Chem.MolFromSmiles)\n",
    "\n",
    "unicos['peso'] = unicos['objeto'].apply(Descriptors.MolWt)\n",
    "unicos['area'] = unicos['objeto'].apply(Descriptors.TPSA)\n",
    "unicos['solubilidade'] = unicos['objeto'].apply(Descriptors.MolLogP)\n",
    "unicos['qed'] = unicos['objeto'].apply(qed)\n",
    "unicos['sas'] = unicos['objeto'].apply(sas)\n",
    "unicos['hba'] =  unicos['objeto'].apply(Chem.rdMolDescriptors.CalcNumLipinskiHBA)\n",
    "unicos['hbd'] =  unicos['objeto'].apply(Chem.rdMolDescriptors.CalcNumLipinskiHBD)\n",
    "\n",
    "unicos = unicos[['peso', 'area', 'solubilidade', 'qed','sas', 'hba','hbd','smiles','objeto']]\n",
    "\n",
    "clear_output()"
   ]
  },
  {
   "cell_type": "code",
   "execution_count": 8,
   "metadata": {},
   "outputs": [
    {
     "data": {
      "text/html": [
       "<div>\n",
       "<style scoped>\n",
       "    .dataframe tbody tr th:only-of-type {\n",
       "        vertical-align: middle;\n",
       "    }\n",
       "\n",
       "    .dataframe tbody tr th {\n",
       "        vertical-align: top;\n",
       "    }\n",
       "\n",
       "    .dataframe thead th {\n",
       "        text-align: right;\n",
       "    }\n",
       "</style>\n",
       "<table border=\"1\" class=\"dataframe\">\n",
       "  <thead>\n",
       "    <tr style=\"text-align: right;\">\n",
       "      <th></th>\n",
       "      <th>peso</th>\n",
       "      <th>area</th>\n",
       "      <th>solubilidade</th>\n",
       "      <th>qed</th>\n",
       "      <th>sas</th>\n",
       "      <th>hba</th>\n",
       "      <th>hbd</th>\n",
       "      <th>smiles</th>\n",
       "      <th>objeto</th>\n",
       "    </tr>\n",
       "  </thead>\n",
       "  <tbody>\n",
       "    <tr>\n",
       "      <th>0</th>\n",
       "      <td>326.173</td>\n",
       "      <td>61.83</td>\n",
       "      <td>2.46060</td>\n",
       "      <td>0.274646</td>\n",
       "      <td>3.202527</td>\n",
       "      <td>5</td>\n",
       "      <td>0</td>\n",
       "      <td>CC1(C(=O)Oc2c(F)c(F)c(F)c(F)c2F)COC(=O)OC1</td>\n",
       "      <td>&lt;rdkit.Chem.rdchem.Mol object at 0x7feb45583e40&gt;</td>\n",
       "    </tr>\n",
       "    <tr>\n",
       "      <th>1</th>\n",
       "      <td>331.337</td>\n",
       "      <td>24.06</td>\n",
       "      <td>1.84700</td>\n",
       "      <td>0.823104</td>\n",
       "      <td>2.976500</td>\n",
       "      <td>2</td>\n",
       "      <td>2</td>\n",
       "      <td>C=C(NC1=CC(C(F)(F)F)=C1)Nc1ccc(C(C)(C)C)cc1.[Na+]</td>\n",
       "      <td>&lt;rdkit.Chem.rdchem.Mol object at 0x7feb45583f80&gt;</td>\n",
       "    </tr>\n",
       "    <tr>\n",
       "      <th>2</th>\n",
       "      <td>286.230</td>\n",
       "      <td>61.83</td>\n",
       "      <td>2.18110</td>\n",
       "      <td>0.796929</td>\n",
       "      <td>2.830841</td>\n",
       "      <td>5</td>\n",
       "      <td>0</td>\n",
       "      <td>CC1(C(=O)OCc2cccc(F)c2F)COC(=O)OC1</td>\n",
       "      <td>&lt;rdkit.Chem.rdchem.Mol object at 0x7feb45583f30&gt;</td>\n",
       "    </tr>\n",
       "    <tr>\n",
       "      <th>3</th>\n",
       "      <td>226.272</td>\n",
       "      <td>44.76</td>\n",
       "      <td>2.65600</td>\n",
       "      <td>0.410472</td>\n",
       "      <td>3.578800</td>\n",
       "      <td>4</td>\n",
       "      <td>0</td>\n",
       "      <td>C=C(C)C(=C)OCC1(CC)COC(=O)OC1</td>\n",
       "      <td>&lt;rdkit.Chem.rdchem.Mol object at 0x7feb45572030&gt;</td>\n",
       "    </tr>\n",
       "    <tr>\n",
       "      <th>4</th>\n",
       "      <td>288.206</td>\n",
       "      <td>0.00</td>\n",
       "      <td>5.09940</td>\n",
       "      <td>0.678754</td>\n",
       "      <td>2.346450</td>\n",
       "      <td>0</td>\n",
       "      <td>0</td>\n",
       "      <td>CC(C)c1cccc(C(F)(F)C(F)(F)C(F)(F)F)c1</td>\n",
       "      <td>&lt;rdkit.Chem.rdchem.Mol object at 0x7feb45572080&gt;</td>\n",
       "    </tr>\n",
       "    <tr>\n",
       "      <th>...</th>\n",
       "      <td>...</td>\n",
       "      <td>...</td>\n",
       "      <td>...</td>\n",
       "      <td>...</td>\n",
       "      <td>...</td>\n",
       "      <td>...</td>\n",
       "      <td>...</td>\n",
       "      <td>...</td>\n",
       "      <td>...</td>\n",
       "    </tr>\n",
       "    <tr>\n",
       "      <th>100</th>\n",
       "      <td>538.493</td>\n",
       "      <td>123.66</td>\n",
       "      <td>3.48282</td>\n",
       "      <td>0.135222</td>\n",
       "      <td>3.473669</td>\n",
       "      <td>10</td>\n",
       "      <td>0</td>\n",
       "      <td>CSCCCOC(=O)Oc1c(C)c(F)c(F)c(F)c1CC(=O)OCCOC(=O...</td>\n",
       "      <td>&lt;rdkit.Chem.rdchem.Mol object at 0x7feb45584ee0&gt;</td>\n",
       "    </tr>\n",
       "    <tr>\n",
       "      <th>101</th>\n",
       "      <td>270.376</td>\n",
       "      <td>32.67</td>\n",
       "      <td>3.71166</td>\n",
       "      <td>0.765318</td>\n",
       "      <td>3.005421</td>\n",
       "      <td>3</td>\n",
       "      <td>0</td>\n",
       "      <td>Cc1cc(C)c(N2C(=O)C=CC2=NC(C)(C)C)c(C)c1</td>\n",
       "      <td>&lt;rdkit.Chem.rdchem.Mol object at 0x7feb45584f30&gt;</td>\n",
       "    </tr>\n",
       "    <tr>\n",
       "      <th>102</th>\n",
       "      <td>361.570</td>\n",
       "      <td>41.49</td>\n",
       "      <td>5.61350</td>\n",
       "      <td>0.448464</td>\n",
       "      <td>3.645448</td>\n",
       "      <td>3</td>\n",
       "      <td>2</td>\n",
       "      <td>C=C(CCCCCC(C)C)NC(C)(CO)C(OC(C)C)c1ccccc1</td>\n",
       "      <td>&lt;rdkit.Chem.rdchem.Mol object at 0x7feb45584f80&gt;</td>\n",
       "    </tr>\n",
       "    <tr>\n",
       "      <th>103</th>\n",
       "      <td>234.242</td>\n",
       "      <td>17.07</td>\n",
       "      <td>3.34710</td>\n",
       "      <td>0.766535</td>\n",
       "      <td>3.291466</td>\n",
       "      <td>1</td>\n",
       "      <td>0</td>\n",
       "      <td>C=C(C)c1ccccc1S(=O)C(F)(F)F</td>\n",
       "      <td>&lt;rdkit.Chem.rdchem.Mol object at 0x7feb45574030&gt;</td>\n",
       "    </tr>\n",
       "    <tr>\n",
       "      <th>104</th>\n",
       "      <td>0.000</td>\n",
       "      <td>0.00</td>\n",
       "      <td>0.00000</td>\n",
       "      <td>0.339424</td>\n",
       "      <td>NaN</td>\n",
       "      <td>0</td>\n",
       "      <td>0</td>\n",
       "      <td></td>\n",
       "      <td>&lt;rdkit.Chem.rdchem.Mol object at 0x7feb45574080&gt;</td>\n",
       "    </tr>\n",
       "  </tbody>\n",
       "</table>\n",
       "<p>105 rows × 9 columns</p>\n",
       "</div>"
      ],
      "text/plain": [
       "        peso    area  solubilidade       qed       sas  hba  hbd  \\\n",
       "0    326.173   61.83       2.46060  0.274646  3.202527    5    0   \n",
       "1    331.337   24.06       1.84700  0.823104  2.976500    2    2   \n",
       "2    286.230   61.83       2.18110  0.796929  2.830841    5    0   \n",
       "3    226.272   44.76       2.65600  0.410472  3.578800    4    0   \n",
       "4    288.206    0.00       5.09940  0.678754  2.346450    0    0   \n",
       "..       ...     ...           ...       ...       ...  ...  ...   \n",
       "100  538.493  123.66       3.48282  0.135222  3.473669   10    0   \n",
       "101  270.376   32.67       3.71166  0.765318  3.005421    3    0   \n",
       "102  361.570   41.49       5.61350  0.448464  3.645448    3    2   \n",
       "103  234.242   17.07       3.34710  0.766535  3.291466    1    0   \n",
       "104    0.000    0.00       0.00000  0.339424       NaN    0    0   \n",
       "\n",
       "                                                smiles  \\\n",
       "0           CC1(C(=O)Oc2c(F)c(F)c(F)c(F)c2F)COC(=O)OC1   \n",
       "1    C=C(NC1=CC(C(F)(F)F)=C1)Nc1ccc(C(C)(C)C)cc1.[Na+]   \n",
       "2                   CC1(C(=O)OCc2cccc(F)c2F)COC(=O)OC1   \n",
       "3                        C=C(C)C(=C)OCC1(CC)COC(=O)OC1   \n",
       "4                CC(C)c1cccc(C(F)(F)C(F)(F)C(F)(F)F)c1   \n",
       "..                                                 ...   \n",
       "100  CSCCCOC(=O)Oc1c(C)c(F)c(F)c(F)c1CC(=O)OCCOC(=O...   \n",
       "101            Cc1cc(C)c(N2C(=O)C=CC2=NC(C)(C)C)c(C)c1   \n",
       "102          C=C(CCCCCC(C)C)NC(C)(CO)C(OC(C)C)c1ccccc1   \n",
       "103                        C=C(C)c1ccccc1S(=O)C(F)(F)F   \n",
       "104                                                      \n",
       "\n",
       "                                               objeto  \n",
       "0    <rdkit.Chem.rdchem.Mol object at 0x7feb45583e40>  \n",
       "1    <rdkit.Chem.rdchem.Mol object at 0x7feb45583f80>  \n",
       "2    <rdkit.Chem.rdchem.Mol object at 0x7feb45583f30>  \n",
       "3    <rdkit.Chem.rdchem.Mol object at 0x7feb45572030>  \n",
       "4    <rdkit.Chem.rdchem.Mol object at 0x7feb45572080>  \n",
       "..                                                ...  \n",
       "100  <rdkit.Chem.rdchem.Mol object at 0x7feb45584ee0>  \n",
       "101  <rdkit.Chem.rdchem.Mol object at 0x7feb45584f30>  \n",
       "102  <rdkit.Chem.rdchem.Mol object at 0x7feb45584f80>  \n",
       "103  <rdkit.Chem.rdchem.Mol object at 0x7feb45574030>  \n",
       "104  <rdkit.Chem.rdchem.Mol object at 0x7feb45574080>  \n",
       "\n",
       "[105 rows x 9 columns]"
      ]
     },
     "execution_count": 8,
     "metadata": {},
     "output_type": "execute_result"
    }
   ],
   "source": [
    "unicos"
   ]
  },
  {
   "cell_type": "code",
   "execution_count": 9,
   "metadata": {
    "id": "PheindUsxRKA"
   },
   "outputs": [
    {
     "name": "stdout",
     "output_type": "stream",
     "text": [
      "100.0\n",
      "88.98305084745762\n"
     ]
    }
   ],
   "source": [
    "print(len(validos.index)/len(smiles)*100)\n",
    "print(len(unicos.index)/len(smiles)*100)"
   ]
  },
  {
   "cell_type": "code",
   "execution_count": 10,
   "metadata": {},
   "outputs": [
    {
     "data": {
      "text/html": [
       "<div>\n",
       "<style scoped>\n",
       "    .dataframe tbody tr th:only-of-type {\n",
       "        vertical-align: middle;\n",
       "    }\n",
       "\n",
       "    .dataframe tbody tr th {\n",
       "        vertical-align: top;\n",
       "    }\n",
       "\n",
       "    .dataframe thead th {\n",
       "        text-align: right;\n",
       "    }\n",
       "</style>\n",
       "<table border=\"1\" class=\"dataframe\">\n",
       "  <thead>\n",
       "    <tr style=\"text-align: right;\">\n",
       "      <th></th>\n",
       "      <th>peso</th>\n",
       "      <th>area</th>\n",
       "      <th>solubilidade</th>\n",
       "      <th>qed</th>\n",
       "      <th>sas</th>\n",
       "      <th>hba</th>\n",
       "      <th>hbd</th>\n",
       "    </tr>\n",
       "  </thead>\n",
       "  <tbody>\n",
       "    <tr>\n",
       "      <th>0</th>\n",
       "      <td>326.173</td>\n",
       "      <td>61.83</td>\n",
       "      <td>2.46060</td>\n",
       "      <td>0.274646</td>\n",
       "      <td>3.202527</td>\n",
       "      <td>5</td>\n",
       "      <td>0</td>\n",
       "    </tr>\n",
       "    <tr>\n",
       "      <th>1</th>\n",
       "      <td>331.337</td>\n",
       "      <td>24.06</td>\n",
       "      <td>1.84700</td>\n",
       "      <td>0.823104</td>\n",
       "      <td>2.976500</td>\n",
       "      <td>2</td>\n",
       "      <td>2</td>\n",
       "    </tr>\n",
       "    <tr>\n",
       "      <th>2</th>\n",
       "      <td>286.230</td>\n",
       "      <td>61.83</td>\n",
       "      <td>2.18110</td>\n",
       "      <td>0.796929</td>\n",
       "      <td>2.830841</td>\n",
       "      <td>5</td>\n",
       "      <td>0</td>\n",
       "    </tr>\n",
       "    <tr>\n",
       "      <th>3</th>\n",
       "      <td>226.272</td>\n",
       "      <td>44.76</td>\n",
       "      <td>2.65600</td>\n",
       "      <td>0.410472</td>\n",
       "      <td>3.578800</td>\n",
       "      <td>4</td>\n",
       "      <td>0</td>\n",
       "    </tr>\n",
       "    <tr>\n",
       "      <th>4</th>\n",
       "      <td>288.206</td>\n",
       "      <td>0.00</td>\n",
       "      <td>5.09940</td>\n",
       "      <td>0.678754</td>\n",
       "      <td>2.346450</td>\n",
       "      <td>0</td>\n",
       "      <td>0</td>\n",
       "    </tr>\n",
       "    <tr>\n",
       "      <th>...</th>\n",
       "      <td>...</td>\n",
       "      <td>...</td>\n",
       "      <td>...</td>\n",
       "      <td>...</td>\n",
       "      <td>...</td>\n",
       "      <td>...</td>\n",
       "      <td>...</td>\n",
       "    </tr>\n",
       "    <tr>\n",
       "      <th>99</th>\n",
       "      <td>280.276</td>\n",
       "      <td>71.06</td>\n",
       "      <td>2.51290</td>\n",
       "      <td>0.789092</td>\n",
       "      <td>2.686240</td>\n",
       "      <td>6</td>\n",
       "      <td>0</td>\n",
       "    </tr>\n",
       "    <tr>\n",
       "      <th>100</th>\n",
       "      <td>538.493</td>\n",
       "      <td>123.66</td>\n",
       "      <td>3.48282</td>\n",
       "      <td>0.135222</td>\n",
       "      <td>3.473669</td>\n",
       "      <td>10</td>\n",
       "      <td>0</td>\n",
       "    </tr>\n",
       "    <tr>\n",
       "      <th>101</th>\n",
       "      <td>270.376</td>\n",
       "      <td>32.67</td>\n",
       "      <td>3.71166</td>\n",
       "      <td>0.765318</td>\n",
       "      <td>3.005421</td>\n",
       "      <td>3</td>\n",
       "      <td>0</td>\n",
       "    </tr>\n",
       "    <tr>\n",
       "      <th>102</th>\n",
       "      <td>361.570</td>\n",
       "      <td>41.49</td>\n",
       "      <td>5.61350</td>\n",
       "      <td>0.448464</td>\n",
       "      <td>3.645448</td>\n",
       "      <td>3</td>\n",
       "      <td>2</td>\n",
       "    </tr>\n",
       "    <tr>\n",
       "      <th>103</th>\n",
       "      <td>234.242</td>\n",
       "      <td>17.07</td>\n",
       "      <td>3.34710</td>\n",
       "      <td>0.766535</td>\n",
       "      <td>3.291466</td>\n",
       "      <td>1</td>\n",
       "      <td>0</td>\n",
       "    </tr>\n",
       "  </tbody>\n",
       "</table>\n",
       "<p>104 rows × 7 columns</p>\n",
       "</div>"
      ],
      "text/plain": [
       "        peso    area  solubilidade       qed       sas  hba  hbd\n",
       "0    326.173   61.83       2.46060  0.274646  3.202527    5    0\n",
       "1    331.337   24.06       1.84700  0.823104  2.976500    2    2\n",
       "2    286.230   61.83       2.18110  0.796929  2.830841    5    0\n",
       "3    226.272   44.76       2.65600  0.410472  3.578800    4    0\n",
       "4    288.206    0.00       5.09940  0.678754  2.346450    0    0\n",
       "..       ...     ...           ...       ...       ...  ...  ...\n",
       "99   280.276   71.06       2.51290  0.789092  2.686240    6    0\n",
       "100  538.493  123.66       3.48282  0.135222  3.473669   10    0\n",
       "101  270.376   32.67       3.71166  0.765318  3.005421    3    0\n",
       "102  361.570   41.49       5.61350  0.448464  3.645448    3    2\n",
       "103  234.242   17.07       3.34710  0.766535  3.291466    1    0\n",
       "\n",
       "[104 rows x 7 columns]"
      ]
     },
     "execution_count": 10,
     "metadata": {},
     "output_type": "execute_result"
    }
   ],
   "source": [
    "unicos.dropna(inplace=True)\n",
    "unicos.drop(['smiles','objeto'],axis=1)"
   ]
  },
  {
   "cell_type": "code",
   "execution_count": 11,
   "metadata": {},
   "outputs": [
    {
     "data": {
      "text/plain": [
       "104"
      ]
     },
     "execution_count": 11,
     "metadata": {},
     "output_type": "execute_result"
    }
   ],
   "source": [
    "len(unicos)"
   ]
  },
  {
   "cell_type": "code",
   "execution_count": 12,
   "metadata": {
    "id": "LdNmikCXwvlU"
   },
   "outputs": [
    {
     "data": {
      "image/png": "[encoded data removed]",
      "text/plain": [
       "<rdkit.Chem.rdchem.Mol at 0x7feb45572b70>"
      ]
     },
     "execution_count": 12,
     "metadata": {},
     "output_type": "execute_result"
    }
   ],
   "source": [
    "unicos.loc[39,'objeto']"
   ]
  },
  {
   "cell_type": "code",
   "execution_count": 13,
   "metadata": {
    "id": "rizKfIF_FcNL"
   },
   "outputs": [
    {
     "data": {
      "text/plain": [
       "smiles    CC(C)(C)OC(=O)N=C(NCCOC(=O)C1(C)COC(=O)OC1)NC(...\n",
       "objeto     <rdkit.Chem.rdchem.Mol object at 0x7feb45a3e580>\n",
       "Name: 66, dtype: object"
      ]
     },
     "execution_count": 13,
     "metadata": {},
     "output_type": "execute_result"
    }
   ],
   "source": [
    "validos.loc[66]"
   ]
  },
  {
   "cell_type": "code",
   "execution_count": 14,
   "metadata": {
    "id": "K6UpNiuEwF4b"
   },
   "outputs": [
    {
     "data": {
      "text/plain": [
       "0.4719166184134337"
      ]
     },
     "execution_count": 14,
     "metadata": {},
     "output_type": "execute_result"
    }
   ],
   "source": [
    "mol1 = validos.loc[2,'objeto']\n",
    "mol2 = validos.loc[1,'objeto']\n",
    "\n",
    "fp1 = Chem.RDKFingerprint(mol1)\n",
    "fp2 = Chem.RDKFingerprint(mol2)\n",
    "\n",
    "DataStructs.TanimotoSimilarity(fp1,fp2)"
   ]
  },
  {
   "cell_type": "code",
   "execution_count": 15,
   "metadata": {
    "id": "dUHPZpxfcIBh"
   },
   "outputs": [],
   "source": [
    "def diversidade(A,B):\n",
    "  '''parametros: duas listas/series de cadeias smiles sem a sinalização de inicio ou fim'''\n",
    "  soma = 0\n",
    "  for a in tqdm(A):\n",
    "    fp1 = Chem.RDKFingerprint( Chem.MolFromSmiles(a) )\n",
    "    for b in B:\n",
    "      fp2 = Chem.RDKFingerprint( Chem.MolFromSmiles(b) )\n",
    "\n",
    "      soma+= DataStructs.TanimotoSimilarity(fp1,fp2)\n",
    "  return 1 - soma/(len(A)*len(B))"
   ]
  },
  {
   "cell_type": "code",
   "execution_count": 16,
   "metadata": {
    "id": "UnQ-zsjMgN3g"
   },
   "outputs": [],
   "source": [
    "#diversidade(validos['smiles'],validos['smiles'])"
   ]
  },
  {
   "cell_type": "code",
   "execution_count": 17,
   "metadata": {
    "id": "PfrMKgJ1d8LN"
   },
   "outputs": [],
   "source": [
    "# diversidade(unicos['smiles'].apply(tira),unicos['smiles'].apply(tira))"
   ]
  },
  {
   "cell_type": "code",
   "execution_count": 18,
   "metadata": {
    "id": "cLxBBtdYK2kn"
   },
   "outputs": [
    {
     "data": {
      "text/plain": [
       "7"
      ]
     },
     "execution_count": 18,
     "metadata": {},
     "output_type": "execute_result"
    }
   ],
   "source": [
    "atributos = unicos.columns[:-2]\n",
    "len(atributos)"
   ]
  },
  {
   "cell_type": "code",
   "execution_count": 19,
   "metadata": {},
   "outputs": [
    {
     "data": {
      "image/png": "[encoded data removed]",
      "text/plain": [
       "<Figure size 432x288 with 1 Axes>"
      ]
     },
     "metadata": {
      "needs_background": "light"
     },
     "output_type": "display_data"
    },
    {
     "data": {
      "image/png": "[encoded data removed]",
      "text/plain": [
       "<Figure size 432x288 with 1 Axes>"
      ]
     },
     "metadata": {
      "needs_background": "light"
     },
     "output_type": "display_data"
    },
    {
     "data": {
      "image/png": "[encoded data removed]",
      "text/plain": [
       "<Figure size 432x288 with 1 Axes>"
      ]
     },
     "metadata": {
      "needs_background": "light"
     },
     "output_type": "display_data"
    },
    {
     "data": {
      "image/png": "[encoded data removed]",
      "text/plain": [
       "<Figure size 432x288 with 1 Axes>"
      ]
     },
     "metadata": {
      "needs_background": "light"
     },
     "output_type": "display_data"
    },
    {
     "data": {
      "image/png": "[encoded data removed]",
      "text/plain": [
       "<Figure size 432x288 with 1 Axes>"
      ]
     },
     "metadata": {
      "needs_background": "light"
     },
     "output_type": "display_data"
    },
    {
     "data": {
      "image/png": "[encoded data removed]",
      "text/plain": [
       "<Figure size 432x288 with 1 Axes>"
      ]
     },
     "metadata": {
      "needs_background": "light"
     },
     "output_type": "display_data"
    },
    {
     "data": {
      "image/png": "[encoded data removed]",
      "text/plain": [
       "<Figure size 432x288 with 1 Axes>"
      ]
     },
     "metadata": {
      "needs_background": "light"
     },
     "output_type": "display_data"
    }
   ],
   "source": [
    "for col in atributos:\n",
    "    sns.kdeplot(unicos[col],shade=True)\n",
    "    plt.show()"
   ]
  },
  {
   "cell_type": "code",
   "execution_count": null,
   "metadata": {},
   "outputs": [],
   "source": []
  },
  {
   "cell_type": "code",
   "execution_count": 20,
   "metadata": {},
   "outputs": [
    {
     "name": "stdout",
     "output_type": "stream",
     "text": [
      "CPU times: user 1h 42min 52s, sys: 28 s, total: 1h 43min 20s\n",
      "Wall time: 1h 43min\n"
     ]
    }
   ],
   "source": [
    "%%time\n",
    "faz_hierarquia = True\n",
    "save_arff = False\n",
    "save_obj = False#todo\n",
    "\n",
    "try:\n",
    "    chebi = Chebi()\n",
    "    chebi = chebi.load('chebi.obj')\n",
    "except:\n",
    "    if faz_hierarquia:\n",
    "        from chebi import Chebi\n",
    "        chebi = Chebi('chebi.owl')\n",
    "        chebi.create_hierarchy()\n",
    "        chebi.poda_irregulares(100)\n",
    "        if save_arff: chebi.save_arff('clus/chebi.arff')\n",
    "        if save_obj: chebi.save('chebi.obj') \n",
    "\n",
    "        clear_output()"
   ]
  },
  {
   "cell_type": "code",
   "execution_count": 21,
   "metadata": {},
   "outputs": [
    {
     "data": {
      "text/plain": [
       "[{'profundidade': 17,\n",
       "  'quantidade de nós': 278,\n",
       "  'quantidade de folhas': 87,\n",
       "  'maior numero de filhos': 12,\n",
       "  'pai com maior numero de filhos': 'CHEBI_29067',\n",
       "  'maior numero de pais': 6,\n",
       "  'filho com maior numero de pais': 'CHEBI_29067',\n",
       "  'média de filhos': 1.5611510791366907,\n",
       "  'média de pais': 0},\n",
       " '',\n",
       " {'profundidade': 12,\n",
       "  'quantidade de nós': 166,\n",
       "  'quantidade de folhas': 75,\n",
       "  'maior numero de filhos': 12,\n",
       "  'pai com maior numero de filhos': 'CHEBI_33575',\n",
       "  'maior numero de pais': 6,\n",
       "  'filho com maior numero de pais': 'CHEBI_33575',\n",
       "  'média de filhos': 1.1626506024096386,\n",
       "  'média de pais': 0}]"
      ]
     },
     "execution_count": 21,
     "metadata": {},
     "output_type": "execute_result"
    }
   ],
   "source": [
    "est = [chebi.faz_estatisticas(x) for x in chebi.raizes]\n",
    "\n",
    "est"
   ]
  },
  {
   "cell_type": "code",
   "execution_count": 22,
   "metadata": {},
   "outputs": [],
   "source": [
    "conjunto = smi_file"
   ]
  },
  {
   "cell_type": "code",
   "execution_count": 23,
   "metadata": {},
   "outputs": [],
   "source": [
    "conjunto = smi_file\n",
    "base = 'chebi'\n",
    "\n",
    "sfile = f\"\"\"\n",
    "[Data]\n",
    "File = {base}.arff\n",
    "PruneSet = {base}.arff\n",
    "TestSet = {conjunto}.arff\n",
    "\n",
    "[Hierarchical]\n",
    "Type = DAG\n",
    "WType = ExpAvgParentWeight\n",
    "HSeparator = /\n",
    "\n",
    "[Tree]\n",
    "FTest = [0.001,0.01,0.1,1.0]\n",
    "\n",
    "[Model]\n",
    "MinimalWeight = 1.0\n",
    "\n",
    "[Output]\n",
    "WritePredictions = {{Test}}\n",
    "\n",
    "\"\"\"\n",
    "\n",
    "file2write=open(f'clus/{conjunto}.s','w')\n",
    "file2write.write(sfile)\n",
    "file2write.close()"
   ]
  },
  {
   "cell_type": "code",
   "execution_count": 24,
   "metadata": {},
   "outputs": [],
   "source": [
    "#cria o header\n",
    "f = open('clus/chebi.arff')\n",
    "texto = f.read()\n",
    "f.close()\n",
    "texto = texto.splitlines()\n",
    "\n",
    "\n",
    "\n",
    "ala = np.where('@data' in texto)\n",
    "\n",
    "for i,linha in enumerate(texto):\n",
    "    linha+='\\n'\n",
    "    if '@data' in linha:        \n",
    "        break\n",
    "\n",
    "header_text = ''.join(texto[:i+1]).splitlines()[0].replace('@data', '\\n@data\\n')\n",
    "header_text = header_text.replace('@','\\n@')\n",
    "\n",
    "f = open('clus/header.txt', 'w')\n",
    "f.write(header_text)\n",
    "f.close()"
   ]
  },
  {
   "cell_type": "code",
   "execution_count": null,
   "metadata": {},
   "outputs": [],
   "source": []
  },
  {
   "cell_type": "code",
   "execution_count": 25,
   "metadata": {},
   "outputs": [],
   "source": [
    "#cria o .arff alvo\n",
    "f = open('clus/header.txt')\n",
    "texto = f.read()\n",
    "f.close()\n",
    "\n",
    "for _,linha in unicos.drop(['smiles','objeto'],axis=1).iterrows():\n",
    "    for atributo in linha:\n",
    "        texto += f'{atributo}, '\n",
    "    texto += 'CHEBI_24431\\n'\n",
    "\n",
    "file2write=open(f'clus/{conjunto}.arff','w')\n",
    "file2write.write(texto)\n",
    "file2write.close()"
   ]
  },
  {
   "cell_type": "code",
   "execution_count": 26,
   "metadata": {},
   "outputs": [],
   "source": [
    "%%time\n",
    "import time\n",
    "clus = False\n",
    "if clus:\n",
    "    \n",
    "    inicio = time.time()\n",
    "    toy = f'{conjunto}.s'\n",
    "    %cd clus\n",
    "    !java -jar -Xmx16g Clus.jar -xval {toy}\n",
    "    %cd ..\n",
    "    fim = time.time()\n",
    "    clear_output()"
   ]
  },
  {
   "cell_type": "code",
   "execution_count": null,
   "metadata": {},
   "outputs": [],
   "source": [
    "fim - inicio    "
   ]
  },
  {
   "cell_type": "code",
   "execution_count": 55,
   "metadata": {},
   "outputs": [],
   "source": [
    "saida = f\"clus/{conjunto}.test.pred.arff\"\n",
    "\n",
    "f = open(saida)\n",
    "texto = f.read().split('\\n\\n')\n",
    "f.close()\n",
    "\n",
    "_,labels,elements_preds = texto\n",
    "\n",
    "labels = labels.split('\\n')\n",
    "labels = labels[1:-1]\n",
    "numero_de_classes = len(labels) //2\n",
    "labels = labels[numero_de_classes:] #o primeiro e ultimo  são a classe prevista e a suposta verdadeira\n",
    "labels = [x.split('-')[2].split(' ')[0] for x in labels]\n",
    "\n",
    "elements_preds = elements_preds.split('\\n')\n",
    "elements_preds = elements_preds[1:-1]\n",
    "# preds = np.array( preds[1:-1] )"
   ]
  },
  {
   "cell_type": "code",
   "execution_count": 102,
   "metadata": {},
   "outputs": [],
   "source": [
    "hierarquias_previstas = []\n",
    "lb = np.array(labels)\n",
    "for elemento in elements_preds:\n",
    "    bins = elemento.split(',')[1:-1]\n",
    "    probs = bins[numero_de_classes:]\n",
    "    preds = bins[:numero_de_classes]\n",
    "    \n",
    "    mini = Chebi()\n",
    "    clear_output()\n",
    "    hierarquias_previstas.append(mini)\n",
    "    \n",
    "    probs = np.array([float(x) for x in probs])\n",
    "    labels_do_elemento = lb[ np.where(probs >= .8)[0]]\n",
    "    # for a,b in zip(probs,preds): print(a,b)\n",
    "    for node in labels_do_elemento:\n",
    "        mini.add_node(node)\n",
    "        filhos = chebi.filhos[node]\n",
    "        for filho in filhos: \n",
    "            if filho in labels_do_elemento:\n",
    "                mini.add_edge(node,filho)"
   ]
  },
  {
   "cell_type": "code",
   "execution_count": 103,
   "metadata": {},
   "outputs": [
    {
     "data": {
      "text/plain": [
       "104"
      ]
     },
     "execution_count": 103,
     "metadata": {},
     "output_type": "execute_result"
    }
   ],
   "source": [
    "len(hierarquias_previstas)"
   ]
  },
  {
   "cell_type": "code",
   "execution_count": 100,
   "metadata": {},
   "outputs": [
    {
     "name": "stdout",
     "output_type": "stream",
     "text": [
      "├CHEBI_24431\n",
      "| ├CHEBI_23367\n",
      "| | ├CHEBI_24870\n",
      "| | | ├CHEBI_22563\n",
      "| | | | ├CHEBI_25696\n",
      "| | | | | ├CHEBI_29067\n",
      "| | | | | | ├CHEBI_25384\n",
      "| | | | ├CHEBI_33273\n",
      "| | | | | ├CHEBI_35406\n",
      "| | | ├CHEBI_25699\n",
      "| | | ├CHEBI_36358\n",
      "| | ├CHEBI_33579\n",
      "| | | ├CHEBI_33674\n",
      "| | | | ├CHEBI_33608\n",
      "| | | | | ├CHEBI_24651\n",
      "| | | | | | ├CHEBI_24833\n",
      "| | | | | | | ├CHEBI_35605\n",
      "| | | | | | | | ├CHEBI_33575\n",
      "| | | ├CHEBI_33675\n",
      "| | | | ├CHEBI_33304\n",
      "| | | | | ├CHEBI_25806\n",
      "| | | | | | ├CHEBI_25741\n",
      "| | | | | | ├CHEBI_36963\n",
      "| | | | | | | ├CHEBI_36586\n",
      "| | | | | ├CHEBI_36962\n",
      "| | | | ├CHEBI_33582\n",
      "| | | | | ├CHEBI_50860\n",
      "| | | | | | ├CHEBI_33285\n",
      "| | | | | | ├CHEBI_64709\n",
      "| | | | | | ├CHEBI_72695\n",
      "| | | | | | | ├CHEBI_36587\n",
      "| | ├CHEBI_36357\n",
      "| | | ├CHEBI_25367\n",
      "| | | ├CHEBI_37577\n",
      "├CHEBI_36342\n",
      "├CHEBI_50906\n",
      "| ├CHEBI_51086\n",
      "| | ├CHEBI_17891\n",
      "| | | ├CHEBI_39141\n",
      "| | ├CHEBI_37527\n"
     ]
    }
   ],
   "source": [
    "for node in hierarquias_previstas[0].raizes:\n",
    "    hierarquias_previstas[0].printa(node)"
   ]
  },
  {
   "cell_type": "code",
   "execution_count": 70,
   "metadata": {},
   "outputs": [
    {
     "name": "stdout",
     "output_type": "stream",
     "text": [
      "├CHEBI_24431\n"
     ]
    }
   ],
   "source": [
    "mini.atualizado = defaultdict(lambda:False)\n",
    "\n",
    "for node in mini.raizes: \n",
    "    if node in mini.nodes: mini.printa(node)\n"
   ]
  },
  {
   "cell_type": "code",
   "execution_count": 40,
   "metadata": {},
   "outputs": [],
   "source": [
    "#split folds\n",
    "if 'fold' in \n",
    "pos = []\n",
    "folds = []\n",
    "fold = []\n",
    "for i,txt in enumerate(elements_preds):\n",
    "    fold.append(txt)\n",
    "    if '!' in txt and i>2:\n",
    "        folds.append(fold)\n",
    "        fold = []\n",
    "    elif '!' in txt:\n",
    "            fold.pop()\n",
    "\n",
    "    if '@DATA' in txt :\n",
    "        fold.pop()\n",
    "\n",
    "    for a in range(len(pos)-1):\n",
    "        print(pos[a+1]-pos[a])"
   ]
  },
  {
   "cell_type": "code",
   "execution_count": 77,
   "metadata": {},
   "outputs": [
    {
     "name": "stdout",
     "output_type": "stream",
     "text": [
      "None\n"
     ]
    }
   ],
   "source": [
    "import pickle\n",
    "import dill\n",
    "file_name = 'mini.obj'\n",
    "# file = open(file_name,'w')\n",
    "# pickle.dumps(mini.__dict__,file)\n",
    "# file.close()\n",
    "\n",
    "with open(file_name, 'wb') as file:  # Overwrites any existing file.\n",
    "    a = dill.dump(mini, file, pickle.HIGHEST_PROTOCOL)\n",
    "\n",
    "# with open(file_name, 'r') as file:  # Overwrites any existing file.\n",
    "#     mini2 = dill.loads(file, pickle.HIGHEST_PROTOCOL)\n",
    "\n",
    "print(a)\n",
    "# import pickle\n",
    "# object = Object()\n",
    "# filehandler = open(filename, 'w')\n",
    "# pickle.dump(object, filehandler)"
   ]
  },
  {
   "cell_type": "code",
   "execution_count": 50,
   "metadata": {},
   "outputs": [],
   "source": [
    "elemento = folds[0][3].split(',')"
   ]
  },
  {
   "cell_type": "code",
   "execution_count": 51,
   "metadata": {},
   "outputs": [],
   "source": [
    "bins = elemento[1:-1]\n",
    "porbs = bins[numero_de_classes:]\n",
    "preds = bins[:numero_de_classes]"
   ]
  },
  {
   "cell_type": "code",
   "execution_count": 78,
   "metadata": {},
   "outputs": [
    {
     "data": {
      "text/plain": [
       "744"
      ]
     },
     "execution_count": 78,
     "metadata": {},
     "output_type": "execute_result"
    }
   ],
   "source": [
    "len(bins)"
   ]
  },
  {
   "cell_type": "code",
   "execution_count": 53,
   "metadata": {},
   "outputs": [],
   "source": []
  },
  {
   "cell_type": "code",
   "execution_count": 54,
   "metadata": {},
   "outputs": [
    {
     "name": "stdout",
     "output_type": "stream",
     "text": [
      "não foi possivel abrir o aqrquivo  \n"
     ]
    }
   ],
   "source": [
    "mini = Chebi()"
   ]
  },
  {
   "cell_type": "code",
   "execution_count": 55,
   "metadata": {},
   "outputs": [],
   "source": [
    "for node in labels_do_elemento:\n",
    "    mini.add_node(node)\n",
    "    filhos = chebi.filhos[node]\n",
    "    for filho in filhos: \n",
    "        if filho in labels_do_elemento:\n",
    "            mini.add_edge(node,filho)\n"
   ]
  },
  {
   "cell_type": "code",
   "execution_count": 58,
   "metadata": {},
   "outputs": [],
   "source": [
    "est = [mini.faz_estatisticas(x) for x in mini.raizes]    \n"
   ]
  },
  {
   "cell_type": "code",
   "execution_count": 61,
   "metadata": {},
   "outputs": [],
   "source": [
    "def printa(chebi,node,nivel=0):\n",
    "        if chebi.atualizado[node]:\n",
    "            return\n",
    "        chebi.atualizado[node] = True\n",
    "        print(f\"{'| '*nivel}├{node}\")\n",
    "        for filho in chebi.filhos[node]:\n",
    "            printa(chebi,filho,nivel=nivel+1)"
   ]
  },
  {
   "cell_type": "code",
   "execution_count": 82,
   "metadata": {},
   "outputs": [
    {
     "name": "stdout",
     "output_type": "stream",
     "text": [
      "├CHEBI_24431\n",
      "| ├CHEBI_23367\n",
      "| | ├CHEBI_33579\n",
      "| | | ├CHEBI_33674\n",
      "| | | | ├CHEBI_33608\n",
      "| | | | | ├CHEBI_24651\n",
      "| | | | | | ├CHEBI_33822\n",
      "| | | | | | | ├CHEBI_30879\n",
      "| | | | | | | | ├CHEBI_35681\n",
      "| | | | | | | | ├CHEBI_26878\n",
      "| | | ├CHEBI_33675\n",
      "| | | | ├CHEBI_33304\n",
      "| | | | | ├CHEBI_25806\n",
      "| | | | | | ├CHEBI_36963\n",
      "| | | | | | | ├CHEBI_35701\n",
      "| | | | | | | | ├CHEBI_25000\n",
      "| | | | | | | | | ├CHEBI_18946\n",
      "| | | | | | | | ├CHEBI_33308\n",
      "| | | | | | | ├CHEBI_36586\n",
      "| | | | | | | | ├CHEBI_17087\n",
      "| | | | | | | | | ├CHEBI_51721\n",
      "| | | | | | | | | | ├CHEBI_51689\n",
      "| | | | | | | ├CHEBI_38104\n",
      "| | | | | ├CHEBI_36962\n",
      "| | | | ├CHEBI_33582\n",
      "| | | | | ├CHEBI_50860\n",
      "| | | | | | ├CHEBI_33285\n",
      "| | | | | | | ├CHEBI_24532\n",
      "| | | | | | ├CHEBI_72695\n",
      "| | | | | | | ├CHEBI_33832\n",
      "| | | | | | | ├CHEBI_36587\n",
      "| | | | | | ├CHEBI_78840\n",
      "| | ├CHEBI_36357\n",
      "| | | ├CHEBI_25367\n",
      "| | | | ├CHEBI_33595\n",
      "| | | | | ├CHEBI_5686\n",
      "| | | ├CHEBI_37577\n",
      "├CHEBI_50906\n",
      "| ├CHEBI_33232\n",
      "| | ├CHEBI_52217\n",
      "| | | ├CHEBI_23888\n",
      "| | | | ├CHEBI_35610\n"
     ]
    }
   ],
   "source": [
    "mini.atualizado = defaultdict(lambda:False)\n",
    "\n",
    "for node in mini.raizes: \n",
    "    if node in mini.nodes: printa(mini,node)\n",
    "    # pass"
   ]
  },
  {
   "cell_type": "code",
   "execution_count": null,
   "metadata": {},
   "outputs": [],
   "source": [
    "print(len(chebi.nodes))\n",
    "print(len(chebi.folhas))"
   ]
  },
  {
   "cell_type": "code",
   "execution_count": null,
   "metadata": {},
   "outputs": [],
   "source": [
    "classes = []\n",
    "for label in labels:\n",
    "    classes.append(label.split('-')[2].split()[0])\n",
    "print(classes[:3])"
   ]
  },
  {
   "cell_type": "markdown",
   "metadata": {},
   "source": [
    "`classes:` classes possiveis, extraidas do header"
   ]
  },
  {
   "cell_type": "code",
   "execution_count": null,
   "metadata": {},
   "outputs": [],
   "source": [
    "all_preds = []\n",
    "\n",
    "for pred in preds:\n",
    "    probs = pred.split(',')[1:-1][numero_de_classes:]\n",
    "    # print(pred.split(',')[1:-1][numero_de_classes:])\n",
    "    pred_text = []\n",
    "    for num,text in zip (probs,classes):\n",
    "        # print(num, text)\n",
    "        if float(num) > .8:\n",
    "            pred_text.append(text)\n",
    "    all_preds.append(pred_text)"
   ]
  },
  {
   "cell_type": "code",
   "execution_count": null,
   "metadata": {},
   "outputs": [],
   "source": []
  },
  {
   "cell_type": "code",
   "execution_count": null,
   "metadata": {},
   "outputs": [],
   "source": []
  },
  {
   "cell_type": "code",
   "execution_count": null,
   "metadata": {},
   "outputs": [],
   "source": [
    "len(classes)"
   ]
  },
  {
   "cell_type": "code",
   "execution_count": null,
   "metadata": {},
   "outputs": [],
   "source": [
    "\n",
    "classes = []\n",
    "for pred in preds:\n",
    "    classes.append(pred.split(',')[0])\n",
    "    print(pred.split(',')[1:-1][454//2:])\n"
   ]
  },
  {
   "cell_type": "code",
   "execution_count": null,
   "metadata": {},
   "outputs": [],
   "source": [
    "classes.count('CHEBI_78298')"
   ]
  },
  {
   "cell_type": "code",
   "execution_count": null,
   "metadata": {},
   "outputs": [],
   "source": []
  },
  {
   "cell_type": "code",
   "execution_count": null,
   "metadata": {},
   "outputs": [],
   "source": [
    "arquivos = [\"hierarchy.txt\", f\"{conjunto}.arff\", f\"{conjunto}.s\", f\"{conjunto}.xval\", f\"{conjunto}.model\", f\"{conjunto}.model\", f\"{conjunto}.out\", f\"{conjunto}.test.pred.arff\"]"
   ]
  },
  {
   "cell_type": "code",
   "execution_count": null,
   "metadata": {},
   "outputs": [],
   "source": [
    "delete_out = False\n",
    "if delete_out:\n",
    "    for arquivo in arquivos:\n",
    "        if os.path.exists(f\"clus/{arquivo}\"):\n",
    "            os.remove(f\"clus/{arquivo}\")"
   ]
  },
  {
   "cell_type": "code",
   "execution_count": null,
   "metadata": {},
   "outputs": [],
   "source": []
  },
  {
   "cell_type": "code",
   "execution_count": null,
   "metadata": {},
   "outputs": [],
   "source": []
  }
 ],
 "metadata": {
  "accelerator": "GPU",
  "colab": {
   "collapsed_sections": [],
   "name": "Vanilla RNN.ipynb",
   "provenance": []
  },
  "kernelspec": {
   "display_name": "Python 3 (ipykernel)",
   "language": "python",
   "name": "python3"
  },
  "language_info": {
   "codemirror_mode": {
    "name": "ipython",
    "version": 3
   },
   "file_extension": ".py",
   "mimetype": "text/x-python",
   "name": "python",
   "nbconvert_exporter": "python",
   "pygments_lexer": "ipython3",
   "version": "3.7.13"
  },
  "vscode": {
   "interpreter": {
    "hash": "0d131df3d42daadb599f0873c195acb5a92a2575888d9ee859c53c6885a589a1"
   }
  }
 },
 "nbformat": 4,
 "nbformat_minor": 4
}
